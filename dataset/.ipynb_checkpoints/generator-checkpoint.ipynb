{
 "cells": [
  {
   "cell_type": "code",
   "execution_count": 43,
   "id": "a0b21c3d-2680-4201-8f28-f7131e7ad19f",
   "metadata": {},
   "outputs": [],
   "source": [
    "import tweepy\n",
    "import pandas as pd\n",
    "import numpy as np"
   ]
  },
  {
   "cell_type": "code",
   "execution_count": null,
   "id": "a2c571c3-7c52-4938-8cfd-07cdbe085ea6",
   "metadata": {},
   "outputs": [],
   "source": [
    "consumer_key = input(\"Enter API key? \")\n",
    "consumer_secret = input(\"Enter API secret? \")\n",
    "access_key = input(\"Enter API access key? \")\n",
    "access_secret = input(\"Enter API access secret? \")"
   ]
  },
  {
   "cell_type": "code",
   "execution_count": 5,
   "id": "defd4299-60a6-449f-bddd-0337517529a5",
   "metadata": {},
   "outputs": [],
   "source": [
    "auth = tweepy.OAuthHandler(consumer_key, consumer_secret)"
   ]
  },
  {
   "cell_type": "code",
   "execution_count": 6,
   "id": "cfab0aa9-a673-49ec-8842-3daabd90dde1",
   "metadata": {},
   "outputs": [],
   "source": [
    "auth.set_access_token(access_key, access_secret)"
   ]
  },
  {
   "cell_type": "code",
   "execution_count": 7,
   "id": "95950168-1c08-4a54-8290-16233ec58b76",
   "metadata": {},
   "outputs": [],
   "source": [
    "api = tweepy.API(auth)"
   ]
  },
  {
   "cell_type": "code",
   "execution_count": null,
   "id": "699bbbf0-8e01-4983-9c8e-76531a7f5f25",
   "metadata": {},
   "outputs": [],
   "source": []
  },
  {
   "cell_type": "code",
   "execution_count": 8,
   "id": "46987615-71a2-437e-a6ed-c1a1670b1e42",
   "metadata": {},
   "outputs": [],
   "source": [
    "bots_list = []"
   ]
  },
  {
   "cell_type": "code",
   "execution_count": 21,
   "id": "54fc872f-4421-4d87-a847-b89e84471aba",
   "metadata": {},
   "outputs": [],
   "source": [
    "for bots in tweepy.Cursor(api.list_members, '01101O10', \"bot-list\").items():\n",
    "    bots_list.append(bots._json)"
   ]
  },
  {
   "cell_type": "code",
   "execution_count": 17,
   "id": "0bc04896-d112-49e8-9e20-aab189380015",
   "metadata": {},
   "outputs": [],
   "source": [
    "real_users = []"
   ]
  },
  {
   "cell_type": "code",
   "execution_count": 33,
   "id": "6c43d74d-b640-464f-ae12-89e709baaeee",
   "metadata": {},
   "outputs": [],
   "source": [
    "for users in tweepy.Cursor(api.list_members, 'Scobleizer', 'Tech-VIPs').items():\n",
    "    real_users.append(users._json)"
   ]
  },
  {
   "cell_type": "code",
   "execution_count": 34,
   "id": "0573126a-3c7b-4d40-a62e-fd480ed5b3fd",
   "metadata": {},
   "outputs": [],
   "source": [
    "user_list = bots_list + real_users"
   ]
  },
  {
   "cell_type": "code",
   "execution_count": 35,
   "id": "b6a82f2d-b66e-4a9e-9b7a-5bd52c464355",
   "metadata": {},
   "outputs": [
    {
     "data": {
      "text/plain": [
       "1780"
      ]
     },
     "execution_count": 35,
     "metadata": {},
     "output_type": "execute_result"
    }
   ],
   "source": [
    "len(user_list)"
   ]
  },
  {
   "cell_type": "code",
   "execution_count": 41,
   "id": "3afa36cb-ca30-4f17-b7b4-4e8bd9cab020",
   "metadata": {},
   "outputs": [],
   "source": [
    "df = pd.DataFrame()\n",
    "\n",
    "def createOutput(data, isbot):\n",
    "    header = ['id', 'id_str', 'screen_name', 'location', 'description', 'url',\n",
    "                'followers_count', 'friends_count', 'listed_count', 'created_at',\n",
    "                'favourites_count', 'verified', 'statuses_count', 'lang', 'status',\n",
    "                'default_profile','default_profile_image', 'has_extended_profile',\n",
    "                'name']\n",
    "    d = {}\n",
    "    for key in header:\n",
    "        if key not in data.keys():\n",
    "            d[key] = \"\"\n",
    "        elif key == 'status':\n",
    "            d[key] = str(data[key])\n",
    "        else:\n",
    "            d[key] = data[key]\n",
    "\n",
    "    df = pd.DataFrame(d, columns= header, index=np.arange(1))\n",
    "    df['bot'] = isbot\n",
    "    return df"
   ]
  },
  {
   "cell_type": "code",
   "execution_count": 45,
   "id": "8120496e-373a-43ad-a335-43971ca9c5e5",
   "metadata": {},
   "outputs": [],
   "source": [
    "for i,users in enumerate(user_list, start = 1):\n",
    "    isbot=0\n",
    "    if(i<=262):\n",
    "        isbot=1\n",
    "    data = user_list[i - 1]\n",
    "    data_df1 = createOutput(data, isbot)\n",
    "    df = pd.concat([data_df1, df], axis= 0, ignore_index = True)"
   ]
  },
  {
   "cell_type": "code",
   "execution_count": 46,
   "id": "49d24310-5780-461c-a71a-88ea95a11f8c",
   "metadata": {},
   "outputs": [],
   "source": [
    "df.to_csv(\"dataset.csv\", encoding='utf-8')"
   ]
  },
  {
   "cell_type": "code",
   "execution_count": null,
   "id": "743e5854-8ab0-4161-a4a2-13789078f857",
   "metadata": {},
   "outputs": [],
   "source": []
  }
 ],
 "metadata": {
  "kernelspec": {
   "display_name": "Python 3",
   "language": "python",
   "name": "python3"
  },
  "language_info": {
   "codemirror_mode": {
    "name": "ipython",
    "version": 3
   },
   "file_extension": ".py",
   "mimetype": "text/x-python",
   "name": "python",
   "nbconvert_exporter": "python",
   "pygments_lexer": "ipython3",
   "version": "3.7.10"
  }
 },
 "nbformat": 4,
 "nbformat_minor": 5
}
