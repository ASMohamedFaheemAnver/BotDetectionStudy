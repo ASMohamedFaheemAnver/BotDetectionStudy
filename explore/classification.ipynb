{
 "cells": [
  {
   "cell_type": "code",
   "execution_count": 3,
   "id": "764347fd-4559-4681-9a6c-ba8487ef3d2d",
   "metadata": {},
   "outputs": [],
   "source": [
    "import pandas as pd\n",
    "import numpy as np\n",
    "import matplotlib.pyplot as plt\n",
    "import seaborn as sns\n",
    "import warnings\n",
    "warnings.filterwarnings(\"ignore\")\n",
    "%matplotlib inline"
   ]
  },
  {
   "cell_type": "code",
   "execution_count": null,
   "id": "545202c4-886c-47fb-bd43-d90a61d981e0",
   "metadata": {},
   "outputs": [],
   "source": []
  },
  {
   "cell_type": "code",
   "execution_count": 4,
   "id": "810fbe6f-4de3-4741-8e11-5bcd34e8e204",
   "metadata": {},
   "outputs": [],
   "source": [
    "data_set_path = \"./dataset.csv\""
   ]
  },
  {
   "cell_type": "code",
   "execution_count": 10,
   "id": "3a0bb414-d51f-4a72-9745-df8f14cb7f53",
   "metadata": {},
   "outputs": [
    {
     "data": {
      "text/plain": [
       "3559"
      ]
     },
     "execution_count": 10,
     "metadata": {},
     "output_type": "execute_result"
    }
   ],
   "source": [
    "training_data = pd.read_csv(data_set_path)\n",
    "len(training_data[\"bot\"])"
   ]
  },
  {
   "cell_type": "code",
   "execution_count": 19,
   "id": "5fc9ac1e-c16e-4231-b120-6c430a13292d",
   "metadata": {},
   "outputs": [],
   "source": [
    "suspicious_words = r'bot|b0t|cannabis|tweet me|mishear|follow me|updates every|gorilla|yes_ofc|forget' \\\n",
    "                    r'expos|kill|clit|bbb|butt|fuck|XXX|sex|truthe|fake|anony|free|virus|funky|RNA|kuck|jargon' \\\n",
    "                    r'nerd|swag|jack|bang|bonsai|chick|prison|paper|pokem|xx|freak|ffd|dunia|clone|genie|bbb' \\\n",
    "                    r'ffd|onlyman|emoji|joke|troll|droop|free|every|wow|cheese|yeah|bio|magic|wizard|face'"
   ]
  },
  {
   "cell_type": "code",
   "execution_count": 20,
   "id": "5a9030ac-2406-4a5a-9603-f020228ef4a2",
   "metadata": {},
   "outputs": [],
   "source": [
    "training_data['screen_name_binary'] = training_data.screen_name.str.contains(suspicious_words, case=False, na=False)\n",
    "training_data['name_binary'] = training_data.name.str.contains(suspicious_words, case=False, na=False)\n",
    "training_data['description_binary'] = training_data.description.str.contains(suspicious_words, case=False, na=False)\n",
    "training_data['status_binary'] = training_data.status.str.contains(suspicious_words, case=False, na=False)"
   ]
  },
  {
   "cell_type": "code",
   "execution_count": 45,
   "id": "7c8f53ac-6a78-45c4-a389-8e119bf2fbda",
   "metadata": {},
   "outputs": [],
   "source": [
    "# training_data"
   ]
  },
  {
   "cell_type": "code",
   "execution_count": 46,
   "id": "4e8382b2-d48c-4ca0-bf69-ae90a3c47966",
   "metadata": {},
   "outputs": [],
   "source": [
    "training_data['listed_count_binary'] = (training_data.listed_count>20000)==False"
   ]
  },
  {
   "cell_type": "code",
   "execution_count": 47,
   "id": "a58ead2d-aca4-45b9-9c03-b51c679a0b2b",
   "metadata": {},
   "outputs": [],
   "source": [
    "# training_data"
   ]
  },
  {
   "cell_type": "code",
   "execution_count": 48,
   "id": "67649d49-51d4-4c0d-8e2f-00b3d086d336",
   "metadata": {},
   "outputs": [],
   "source": [
    "features = ['screen_name_binary', 'name_binary', 'description_binary', 'status_binary', 'verified', 'followers_count', 'friends_count', 'statuses_count', 'listed_count_binary', 'bot']"
   ]
  },
  {
   "cell_type": "code",
   "execution_count": null,
   "id": "7325d024-b1c5-4242-97b7-56b073475c58",
   "metadata": {},
   "outputs": [],
   "source": []
  },
  {
   "cell_type": "code",
   "execution_count": 49,
   "id": "60d27d24-10fa-4327-87b9-aa02100c7a2c",
   "metadata": {},
   "outputs": [],
   "source": [
    "# decision tree classifier"
   ]
  },
  {
   "cell_type": "code",
   "execution_count": 50,
   "id": "5e40a604-c4a3-4ab6-afe6-6025c8dbc670",
   "metadata": {},
   "outputs": [],
   "source": [
    "from sklearn.tree import DecisionTreeClassifier\n",
    "from sklearn.metrics import accuracy_score, roc_curve, auc\n",
    "from sklearn.model_selection import train_test_split"
   ]
  },
  {
   "cell_type": "code",
   "execution_count": 51,
   "id": "707dfe86-eee0-4c07-ad03-57fb670f6842",
   "metadata": {},
   "outputs": [],
   "source": [
    "x = training_data[features].iloc[:,:-1]\n",
    "y = training_data[features].iloc[:,-1]"
   ]
  },
  {
   "cell_type": "code",
   "execution_count": 52,
   "id": "2bf42f76-931b-4c9f-9142-3629ca061021",
   "metadata": {},
   "outputs": [],
   "source": [
    "dt = DecisionTreeClassifier(criterion='entropy', min_samples_leaf=50, min_samples_split=10)\n",
    "\n",
    "x_train, x_test, y_train, y_test = train_test_split(x, y, test_size=0.3, random_state=101)"
   ]
  },
  {
   "cell_type": "code",
   "execution_count": 53,
   "id": "70869c4f-1619-4d08-8351-6b56ee8044db",
   "metadata": {},
   "outputs": [
    {
     "name": "stdout",
     "output_type": "stream",
     "text": [
      "Prediction accuracy: 0.86329588\n"
     ]
    }
   ],
   "source": [
    "dt = dt.fit(x_train, y_train)\n",
    "y_pred_train = dt.predict(x_train)\n",
    "y_pred_test = dt.predict(x_test)\n",
    "\n",
    "print(\"Prediction accuracy: %.8f\" %accuracy_score(y_test, y_pred_test))"
   ]
  },
  {
   "cell_type": "code",
   "execution_count": null,
   "id": "fea01118-2f90-42de-9a74-d1d2358044bc",
   "metadata": {},
   "outputs": [],
   "source": []
  },
  {
   "cell_type": "code",
   "execution_count": 15,
   "id": "8ab5f7f5-d6ef-4cfa-b1ba-8ea0030fbcdf",
   "metadata": {},
   "outputs": [],
   "source": [
    "# multinomial naive bayes classifier"
   ]
  },
  {
   "cell_type": "code",
   "execution_count": null,
   "id": "60241fd3-12d8-4206-813e-9de607eaeeb9",
   "metadata": {},
   "outputs": [],
   "source": []
  }
 ],
 "metadata": {
  "kernelspec": {
   "display_name": "Python 3",
   "language": "python",
   "name": "python3"
  },
  "language_info": {
   "codemirror_mode": {
    "name": "ipython",
    "version": 3
   },
   "file_extension": ".py",
   "mimetype": "text/x-python",
   "name": "python",
   "nbconvert_exporter": "python",
   "pygments_lexer": "ipython3",
   "version": "3.7.10"
  }
 },
 "nbformat": 4,
 "nbformat_minor": 5
}
